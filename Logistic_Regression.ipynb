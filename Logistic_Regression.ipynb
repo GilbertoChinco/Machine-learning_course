{
  "nbformat": 4,
  "nbformat_minor": 0,
  "metadata": {
    "colab": {
      "name": "Logistic_Regression.ipynb",
      "provenance": []
    },
    "kernelspec": {
      "name": "python3",
      "display_name": "Python 3"
    },
    "language_info": {
      "name": "python"
    }
  },
  "cells": [
    {
      "cell_type": "markdown",
      "metadata": {
        "id": "o-cmMtkz-1ij"
      },
      "source": [
        "# Logistic Regression\n"
      ]
    },
    {
      "cell_type": "markdown",
      "metadata": {
        "id": "q4lGDbFLVMPs"
      },
      "source": [
        "**Logistic Regression**\n",
        "\n",
        "Is a classification alforithm for categorical \n",
        "\n",
        "*Logistic Function*\n",
        "$\\hat{y} = \\sigma(\\theta^TX) = \\frac{1}{1 + e^{-\\theta^TX}}$ \n",
        "\n",
        "the output of the model\n",
        "* $P(y = 1 | x)$\n",
        "* $P(y = 0 | x) = 1 - P(y = 1 | x)$\n",
        "\n",
        "**aplications**\n",
        "* Predicting the probability of a person having a heart attack\n",
        "* Predicting the mortality in injured patients\n",
        "* Predicting a customer's propensity to purchase a product or halt a subscription\n",
        "* Predicting the probability of faillure of a given process or product\n",
        "* Predicting the likelihood of a homeowner defaulting on a mortgage\n",
        "\n",
        "**Suitable**\n",
        "* If your target of the data is binary $y = {0, 1}$\n",
        "* Iy you need probabilistic results\n",
        "* When you need a linear decision boundary $\\theta_0+\\theta_1x_1+\\theta_2x_2>0$\n",
        "\n",
        "**The training process**\n",
        "1. Initialize $\\theta$\n",
        "2. Calculate $\\hat{y} = \\sigma(\\theta^TX)$\n",
        "3. compare the output of $\\hat{y}$ with actual output of customer $y$, and record it as error\n",
        "4. Change the $\\theta$ to reduce the cost\n",
        "5. Go back to step 2\n"
      ]
    },
    {
      "cell_type": "code",
      "metadata": {
        "id": "Dn3tZpD78KoX"
      },
      "source": [
        "import numpy as np\n",
        "import pandas as pd\n",
        "import matplotlib.pyplot as plt\n",
        "import scipy.optimize as opt\n",
        "from sklearn import preprocessing\n"
      ],
      "execution_count": 1,
      "outputs": []
    },
    {
      "cell_type": "markdown",
      "metadata": {
        "id": "1k6lWbqwFM8c"
      },
      "source": [
        "**About the dataset**\n",
        "\n",
        "We will use a telecommunications dataset for predicting customer churn. This is a historical customer dataset where each row represents one customer. The data is relatively easy to understand, and you may uncover insights you can use immediately. Typically it is less expensive to keep customers than acquire new ones, so the focus of this analysis is to predict the customers who will stay with the company.\n",
        "This data set provides information to help you predict what behavior will help you to retain customers. You can analyze all relevant customer data and develop focused customer retention programs.\n",
        "\n",
        "The dataset includes information about:\n",
        "\n",
        "* Customers who left within the last month – the column is called Churn\n",
        "* Services that each customer has signed up for – phone, multiple lines, internet, online security, online backup, device protection, tech support, and streaming TV and movies\n",
        "* Customer account information – how long they had been a customer, contract, payment method, paperless billing, monthly charges, and total charges\n",
        "*Demographic info about customers – gender, age range, and if they have partners and dependents"
      ]
    },
    {
      "cell_type": "code",
      "metadata": {
        "colab": {
          "base_uri": "https://localhost:8080/"
        },
        "id": "V3impmaOEwh1",
        "outputId": "6b1743f5-97a7-43f1-a530-a4ef578b01c4"
      },
      "source": [
        "!wget -O ChurnData.csv https://cf-courses-data.s3.us.cloud-object-storage.appdomain.cloud/IBMDeveloperSkillsNetwork-ML0101EN-SkillsNetwork/labs/Module%203/data/ChurnData.csv"
      ],
      "execution_count": 2,
      "outputs": [
        {
          "output_type": "stream",
          "name": "stdout",
          "text": [
            "--2021-11-14 15:34:15--  https://cf-courses-data.s3.us.cloud-object-storage.appdomain.cloud/IBMDeveloperSkillsNetwork-ML0101EN-SkillsNetwork/labs/Module%203/data/ChurnData.csv\n",
            "Resolving cf-courses-data.s3.us.cloud-object-storage.appdomain.cloud (cf-courses-data.s3.us.cloud-object-storage.appdomain.cloud)... 198.23.119.245\n",
            "Connecting to cf-courses-data.s3.us.cloud-object-storage.appdomain.cloud (cf-courses-data.s3.us.cloud-object-storage.appdomain.cloud)|198.23.119.245|:443... connected.\n",
            "HTTP request sent, awaiting response... 200 OK\n",
            "Length: 35943 (35K) [text/csv]\n",
            "Saving to: ‘ChurnData.csv’\n",
            "\n",
            "ChurnData.csv       100%[===================>]  35.10K  --.-KB/s    in 0.04s   \n",
            "\n",
            "2021-11-14 15:34:16 (1000 KB/s) - ‘ChurnData.csv’ saved [35943/35943]\n",
            "\n"
          ]
        }
      ]
    },
    {
      "cell_type": "code",
      "metadata": {
        "colab": {
          "base_uri": "https://localhost:8080/",
          "height": 224
        },
        "id": "0MHQslKrFbjl",
        "outputId": "b6adc35f-9711-4cf6-aa29-21250085681c"
      },
      "source": [
        "df = pd.read_csv(\"ChurnData.csv\")\n",
        "df.head()"
      ],
      "execution_count": 3,
      "outputs": [
        {
          "output_type": "execute_result",
          "data": {
            "text/html": [
              "<div>\n",
              "<style scoped>\n",
              "    .dataframe tbody tr th:only-of-type {\n",
              "        vertical-align: middle;\n",
              "    }\n",
              "\n",
              "    .dataframe tbody tr th {\n",
              "        vertical-align: top;\n",
              "    }\n",
              "\n",
              "    .dataframe thead th {\n",
              "        text-align: right;\n",
              "    }\n",
              "</style>\n",
              "<table border=\"1\" class=\"dataframe\">\n",
              "  <thead>\n",
              "    <tr style=\"text-align: right;\">\n",
              "      <th></th>\n",
              "      <th>tenure</th>\n",
              "      <th>age</th>\n",
              "      <th>address</th>\n",
              "      <th>income</th>\n",
              "      <th>ed</th>\n",
              "      <th>employ</th>\n",
              "      <th>equip</th>\n",
              "      <th>callcard</th>\n",
              "      <th>wireless</th>\n",
              "      <th>longmon</th>\n",
              "      <th>tollmon</th>\n",
              "      <th>equipmon</th>\n",
              "      <th>cardmon</th>\n",
              "      <th>wiremon</th>\n",
              "      <th>longten</th>\n",
              "      <th>tollten</th>\n",
              "      <th>cardten</th>\n",
              "      <th>voice</th>\n",
              "      <th>pager</th>\n",
              "      <th>internet</th>\n",
              "      <th>callwait</th>\n",
              "      <th>confer</th>\n",
              "      <th>ebill</th>\n",
              "      <th>loglong</th>\n",
              "      <th>logtoll</th>\n",
              "      <th>lninc</th>\n",
              "      <th>custcat</th>\n",
              "      <th>churn</th>\n",
              "    </tr>\n",
              "  </thead>\n",
              "  <tbody>\n",
              "    <tr>\n",
              "      <th>0</th>\n",
              "      <td>11.0</td>\n",
              "      <td>33.0</td>\n",
              "      <td>7.0</td>\n",
              "      <td>136.0</td>\n",
              "      <td>5.0</td>\n",
              "      <td>5.0</td>\n",
              "      <td>0.0</td>\n",
              "      <td>1.0</td>\n",
              "      <td>1.0</td>\n",
              "      <td>4.40</td>\n",
              "      <td>20.75</td>\n",
              "      <td>0.0</td>\n",
              "      <td>15.25</td>\n",
              "      <td>35.7</td>\n",
              "      <td>42.00</td>\n",
              "      <td>211.45</td>\n",
              "      <td>125.0</td>\n",
              "      <td>1.0</td>\n",
              "      <td>1.0</td>\n",
              "      <td>0.0</td>\n",
              "      <td>1.0</td>\n",
              "      <td>1.0</td>\n",
              "      <td>0.0</td>\n",
              "      <td>1.482</td>\n",
              "      <td>3.033</td>\n",
              "      <td>4.913</td>\n",
              "      <td>4.0</td>\n",
              "      <td>1.0</td>\n",
              "    </tr>\n",
              "    <tr>\n",
              "      <th>1</th>\n",
              "      <td>33.0</td>\n",
              "      <td>33.0</td>\n",
              "      <td>12.0</td>\n",
              "      <td>33.0</td>\n",
              "      <td>2.0</td>\n",
              "      <td>0.0</td>\n",
              "      <td>0.0</td>\n",
              "      <td>0.0</td>\n",
              "      <td>0.0</td>\n",
              "      <td>9.45</td>\n",
              "      <td>0.00</td>\n",
              "      <td>0.0</td>\n",
              "      <td>0.00</td>\n",
              "      <td>0.0</td>\n",
              "      <td>288.80</td>\n",
              "      <td>0.00</td>\n",
              "      <td>0.0</td>\n",
              "      <td>0.0</td>\n",
              "      <td>0.0</td>\n",
              "      <td>0.0</td>\n",
              "      <td>0.0</td>\n",
              "      <td>0.0</td>\n",
              "      <td>0.0</td>\n",
              "      <td>2.246</td>\n",
              "      <td>3.240</td>\n",
              "      <td>3.497</td>\n",
              "      <td>1.0</td>\n",
              "      <td>1.0</td>\n",
              "    </tr>\n",
              "    <tr>\n",
              "      <th>2</th>\n",
              "      <td>23.0</td>\n",
              "      <td>30.0</td>\n",
              "      <td>9.0</td>\n",
              "      <td>30.0</td>\n",
              "      <td>1.0</td>\n",
              "      <td>2.0</td>\n",
              "      <td>0.0</td>\n",
              "      <td>0.0</td>\n",
              "      <td>0.0</td>\n",
              "      <td>6.30</td>\n",
              "      <td>0.00</td>\n",
              "      <td>0.0</td>\n",
              "      <td>0.00</td>\n",
              "      <td>0.0</td>\n",
              "      <td>157.05</td>\n",
              "      <td>0.00</td>\n",
              "      <td>0.0</td>\n",
              "      <td>0.0</td>\n",
              "      <td>0.0</td>\n",
              "      <td>0.0</td>\n",
              "      <td>0.0</td>\n",
              "      <td>1.0</td>\n",
              "      <td>0.0</td>\n",
              "      <td>1.841</td>\n",
              "      <td>3.240</td>\n",
              "      <td>3.401</td>\n",
              "      <td>3.0</td>\n",
              "      <td>0.0</td>\n",
              "    </tr>\n",
              "    <tr>\n",
              "      <th>3</th>\n",
              "      <td>38.0</td>\n",
              "      <td>35.0</td>\n",
              "      <td>5.0</td>\n",
              "      <td>76.0</td>\n",
              "      <td>2.0</td>\n",
              "      <td>10.0</td>\n",
              "      <td>1.0</td>\n",
              "      <td>1.0</td>\n",
              "      <td>1.0</td>\n",
              "      <td>6.05</td>\n",
              "      <td>45.00</td>\n",
              "      <td>50.1</td>\n",
              "      <td>23.25</td>\n",
              "      <td>64.9</td>\n",
              "      <td>239.55</td>\n",
              "      <td>1873.05</td>\n",
              "      <td>880.0</td>\n",
              "      <td>1.0</td>\n",
              "      <td>1.0</td>\n",
              "      <td>1.0</td>\n",
              "      <td>1.0</td>\n",
              "      <td>1.0</td>\n",
              "      <td>1.0</td>\n",
              "      <td>1.800</td>\n",
              "      <td>3.807</td>\n",
              "      <td>4.331</td>\n",
              "      <td>4.0</td>\n",
              "      <td>0.0</td>\n",
              "    </tr>\n",
              "    <tr>\n",
              "      <th>4</th>\n",
              "      <td>7.0</td>\n",
              "      <td>35.0</td>\n",
              "      <td>14.0</td>\n",
              "      <td>80.0</td>\n",
              "      <td>2.0</td>\n",
              "      <td>15.0</td>\n",
              "      <td>0.0</td>\n",
              "      <td>1.0</td>\n",
              "      <td>0.0</td>\n",
              "      <td>7.10</td>\n",
              "      <td>22.00</td>\n",
              "      <td>0.0</td>\n",
              "      <td>23.75</td>\n",
              "      <td>0.0</td>\n",
              "      <td>47.45</td>\n",
              "      <td>166.10</td>\n",
              "      <td>145.0</td>\n",
              "      <td>1.0</td>\n",
              "      <td>0.0</td>\n",
              "      <td>0.0</td>\n",
              "      <td>1.0</td>\n",
              "      <td>1.0</td>\n",
              "      <td>0.0</td>\n",
              "      <td>1.960</td>\n",
              "      <td>3.091</td>\n",
              "      <td>4.382</td>\n",
              "      <td>3.0</td>\n",
              "      <td>0.0</td>\n",
              "    </tr>\n",
              "  </tbody>\n",
              "</table>\n",
              "</div>"
            ],
            "text/plain": [
              "   tenure   age  address  income   ed  ...  loglong  logtoll  lninc  custcat  churn\n",
              "0    11.0  33.0      7.0   136.0  5.0  ...    1.482    3.033  4.913      4.0    1.0\n",
              "1    33.0  33.0     12.0    33.0  2.0  ...    2.246    3.240  3.497      1.0    1.0\n",
              "2    23.0  30.0      9.0    30.0  1.0  ...    1.841    3.240  3.401      3.0    0.0\n",
              "3    38.0  35.0      5.0    76.0  2.0  ...    1.800    3.807  4.331      4.0    0.0\n",
              "4     7.0  35.0     14.0    80.0  2.0  ...    1.960    3.091  4.382      3.0    0.0\n",
              "\n",
              "[5 rows x 28 columns]"
            ]
          },
          "metadata": {},
          "execution_count": 3
        }
      ]
    },
    {
      "cell_type": "code",
      "metadata": {
        "colab": {
          "base_uri": "https://localhost:8080/"
        },
        "id": "qjnpat0RGh2Q",
        "outputId": "b4a1a06c-105d-4f29-84f9-f71e2264b209"
      },
      "source": [
        "df.shape"
      ],
      "execution_count": 7,
      "outputs": [
        {
          "output_type": "execute_result",
          "data": {
            "text/plain": [
              "(200, 28)"
            ]
          },
          "metadata": {},
          "execution_count": 7
        }
      ]
    },
    {
      "cell_type": "code",
      "metadata": {
        "colab": {
          "base_uri": "https://localhost:8080/"
        },
        "id": "1YJnp-m7Hnu2",
        "outputId": "907a0a89-deb9-462f-8b12-8f1861595534"
      },
      "source": [
        "df.dtypes"
      ],
      "execution_count": 12,
      "outputs": [
        {
          "output_type": "execute_result",
          "data": {
            "text/plain": [
              "tenure      float64\n",
              "age         float64\n",
              "address     float64\n",
              "income      float64\n",
              "ed          float64\n",
              "employ      float64\n",
              "equip       float64\n",
              "callcard    float64\n",
              "wireless    float64\n",
              "longmon     float64\n",
              "tollmon     float64\n",
              "equipmon    float64\n",
              "cardmon     float64\n",
              "wiremon     float64\n",
              "longten     float64\n",
              "tollten     float64\n",
              "cardten     float64\n",
              "voice       float64\n",
              "pager       float64\n",
              "internet    float64\n",
              "callwait    float64\n",
              "confer      float64\n",
              "ebill       float64\n",
              "loglong     float64\n",
              "logtoll     float64\n",
              "lninc       float64\n",
              "custcat     float64\n",
              "churn       float64\n",
              "dtype: object"
            ]
          },
          "metadata": {},
          "execution_count": 12
        }
      ]
    },
    {
      "cell_type": "code",
      "metadata": {
        "colab": {
          "base_uri": "https://localhost:8080/"
        },
        "id": "Dwr-nLRKGj1t",
        "outputId": "a94bbc6c-0992-4f77-ef6d-6915ec8f1ea2"
      },
      "source": [
        "df.isnull().sum()"
      ],
      "execution_count": 8,
      "outputs": [
        {
          "output_type": "execute_result",
          "data": {
            "text/plain": [
              "tenure      0\n",
              "age         0\n",
              "address     0\n",
              "income      0\n",
              "ed          0\n",
              "employ      0\n",
              "equip       0\n",
              "callcard    0\n",
              "wireless    0\n",
              "longmon     0\n",
              "tollmon     0\n",
              "equipmon    0\n",
              "cardmon     0\n",
              "wiremon     0\n",
              "longten     0\n",
              "tollten     0\n",
              "cardten     0\n",
              "voice       0\n",
              "pager       0\n",
              "internet    0\n",
              "callwait    0\n",
              "confer      0\n",
              "ebill       0\n",
              "loglong     0\n",
              "logtoll     0\n",
              "lninc       0\n",
              "custcat     0\n",
              "churn       0\n",
              "dtype: int64"
            ]
          },
          "metadata": {},
          "execution_count": 8
        }
      ]
    },
    {
      "cell_type": "markdown",
      "metadata": {
        "id": "aoCI6bHiGmg9"
      },
      "source": [
        "*There is not missing data*"
      ]
    },
    {
      "cell_type": "markdown",
      "metadata": {
        "id": "xa3H26mJFpS8"
      },
      "source": [
        "**Pre - Processing**\n",
        "\n",
        "select some features\n",
        "\n",
        "Independent variables (X)\n",
        "* Tenure\n",
        "* Age\n",
        "* address\n",
        "* income\n",
        "* ed\n",
        "* employ\n",
        "* equip\n",
        "\n",
        "\n",
        "predict variable (Y)\n",
        "* churn"
      ]
    },
    {
      "cell_type": "code",
      "metadata": {
        "colab": {
          "base_uri": "https://localhost:8080/",
          "height": 359
        },
        "id": "H0psDjMyIM5k",
        "outputId": "af56777b-b284-47d9-9d64-1717e69fb7c6"
      },
      "source": [
        "df.corr()"
      ],
      "execution_count": 18,
      "outputs": [
        {
          "output_type": "execute_result",
          "data": {
            "text/html": [
              "<div>\n",
              "<style scoped>\n",
              "    .dataframe tbody tr th:only-of-type {\n",
              "        vertical-align: middle;\n",
              "    }\n",
              "\n",
              "    .dataframe tbody tr th {\n",
              "        vertical-align: top;\n",
              "    }\n",
              "\n",
              "    .dataframe thead th {\n",
              "        text-align: right;\n",
              "    }\n",
              "</style>\n",
              "<table border=\"1\" class=\"dataframe\">\n",
              "  <thead>\n",
              "    <tr style=\"text-align: right;\">\n",
              "      <th></th>\n",
              "      <th>tenure</th>\n",
              "      <th>age</th>\n",
              "      <th>address</th>\n",
              "      <th>income</th>\n",
              "      <th>ed</th>\n",
              "      <th>employ</th>\n",
              "      <th>equip</th>\n",
              "      <th>callcard</th>\n",
              "      <th>wireless</th>\n",
              "      <th>churn</th>\n",
              "    </tr>\n",
              "  </thead>\n",
              "  <tbody>\n",
              "    <tr>\n",
              "      <th>tenure</th>\n",
              "      <td>1.000000</td>\n",
              "      <td>0.431802</td>\n",
              "      <td>0.456328</td>\n",
              "      <td>0.109383</td>\n",
              "      <td>-0.070503</td>\n",
              "      <td>0.445755</td>\n",
              "      <td>-0.117102</td>\n",
              "      <td>0.426530</td>\n",
              "      <td>-0.070590</td>\n",
              "      <td>-0.376860</td>\n",
              "    </tr>\n",
              "    <tr>\n",
              "      <th>age</th>\n",
              "      <td>0.431802</td>\n",
              "      <td>1.000000</td>\n",
              "      <td>0.746566</td>\n",
              "      <td>0.211275</td>\n",
              "      <td>-0.071509</td>\n",
              "      <td>0.622553</td>\n",
              "      <td>-0.071357</td>\n",
              "      <td>0.170404</td>\n",
              "      <td>-0.065527</td>\n",
              "      <td>-0.287697</td>\n",
              "    </tr>\n",
              "    <tr>\n",
              "      <th>address</th>\n",
              "      <td>0.456328</td>\n",
              "      <td>0.746566</td>\n",
              "      <td>1.000000</td>\n",
              "      <td>0.132807</td>\n",
              "      <td>-0.145550</td>\n",
              "      <td>0.520926</td>\n",
              "      <td>-0.148977</td>\n",
              "      <td>0.209204</td>\n",
              "      <td>-0.146478</td>\n",
              "      <td>-0.260659</td>\n",
              "    </tr>\n",
              "    <tr>\n",
              "      <th>income</th>\n",
              "      <td>0.109383</td>\n",
              "      <td>0.211275</td>\n",
              "      <td>0.132807</td>\n",
              "      <td>1.000000</td>\n",
              "      <td>0.141241</td>\n",
              "      <td>0.345161</td>\n",
              "      <td>-0.010741</td>\n",
              "      <td>-0.019969</td>\n",
              "      <td>-0.029635</td>\n",
              "      <td>-0.090790</td>\n",
              "    </tr>\n",
              "    <tr>\n",
              "      <th>ed</th>\n",
              "      <td>-0.070503</td>\n",
              "      <td>-0.071509</td>\n",
              "      <td>-0.145550</td>\n",
              "      <td>0.141241</td>\n",
              "      <td>1.000000</td>\n",
              "      <td>-0.213886</td>\n",
              "      <td>0.488041</td>\n",
              "      <td>-0.071178</td>\n",
              "      <td>0.267670</td>\n",
              "      <td>0.216112</td>\n",
              "    </tr>\n",
              "    <tr>\n",
              "      <th>employ</th>\n",
              "      <td>0.445755</td>\n",
              "      <td>0.622553</td>\n",
              "      <td>0.520926</td>\n",
              "      <td>0.345161</td>\n",
              "      <td>-0.213886</td>\n",
              "      <td>1.000000</td>\n",
              "      <td>-0.174470</td>\n",
              "      <td>0.266612</td>\n",
              "      <td>-0.101187</td>\n",
              "      <td>-0.337969</td>\n",
              "    </tr>\n",
              "    <tr>\n",
              "      <th>equip</th>\n",
              "      <td>-0.117102</td>\n",
              "      <td>-0.071357</td>\n",
              "      <td>-0.148977</td>\n",
              "      <td>-0.010741</td>\n",
              "      <td>0.488041</td>\n",
              "      <td>-0.174470</td>\n",
              "      <td>1.000000</td>\n",
              "      <td>-0.087051</td>\n",
              "      <td>0.386735</td>\n",
              "      <td>0.275284</td>\n",
              "    </tr>\n",
              "    <tr>\n",
              "      <th>callcard</th>\n",
              "      <td>0.426530</td>\n",
              "      <td>0.170404</td>\n",
              "      <td>0.209204</td>\n",
              "      <td>-0.019969</td>\n",
              "      <td>-0.071178</td>\n",
              "      <td>0.266612</td>\n",
              "      <td>-0.087051</td>\n",
              "      <td>1.000000</td>\n",
              "      <td>0.220118</td>\n",
              "      <td>-0.311451</td>\n",
              "    </tr>\n",
              "    <tr>\n",
              "      <th>wireless</th>\n",
              "      <td>-0.070590</td>\n",
              "      <td>-0.065527</td>\n",
              "      <td>-0.146478</td>\n",
              "      <td>-0.029635</td>\n",
              "      <td>0.267670</td>\n",
              "      <td>-0.101187</td>\n",
              "      <td>0.386735</td>\n",
              "      <td>0.220118</td>\n",
              "      <td>1.000000</td>\n",
              "      <td>0.174356</td>\n",
              "    </tr>\n",
              "    <tr>\n",
              "      <th>churn</th>\n",
              "      <td>-0.376860</td>\n",
              "      <td>-0.287697</td>\n",
              "      <td>-0.260659</td>\n",
              "      <td>-0.090790</td>\n",
              "      <td>0.216112</td>\n",
              "      <td>-0.337969</td>\n",
              "      <td>0.275284</td>\n",
              "      <td>-0.311451</td>\n",
              "      <td>0.174356</td>\n",
              "      <td>1.000000</td>\n",
              "    </tr>\n",
              "  </tbody>\n",
              "</table>\n",
              "</div>"
            ],
            "text/plain": [
              "            tenure       age   address  ...  callcard  wireless     churn\n",
              "tenure    1.000000  0.431802  0.456328  ...  0.426530 -0.070590 -0.376860\n",
              "age       0.431802  1.000000  0.746566  ...  0.170404 -0.065527 -0.287697\n",
              "address   0.456328  0.746566  1.000000  ...  0.209204 -0.146478 -0.260659\n",
              "income    0.109383  0.211275  0.132807  ... -0.019969 -0.029635 -0.090790\n",
              "ed       -0.070503 -0.071509 -0.145550  ... -0.071178  0.267670  0.216112\n",
              "employ    0.445755  0.622553  0.520926  ...  0.266612 -0.101187 -0.337969\n",
              "equip    -0.117102 -0.071357 -0.148977  ... -0.087051  0.386735  0.275284\n",
              "callcard  0.426530  0.170404  0.209204  ...  1.000000  0.220118 -0.311451\n",
              "wireless -0.070590 -0.065527 -0.146478  ...  0.220118  1.000000  0.174356\n",
              "churn    -0.376860 -0.287697 -0.260659  ... -0.311451  0.174356  1.000000\n",
              "\n",
              "[10 rows x 10 columns]"
            ]
          },
          "metadata": {},
          "execution_count": 18
        }
      ]
    },
    {
      "cell_type": "markdown",
      "metadata": {
        "id": "GHdCJR38GWEV"
      },
      "source": [
        "When we use scikit learn, it's important to transform the type of the data to an integer"
      ]
    },
    {
      "cell_type": "code",
      "metadata": {
        "colab": {
          "base_uri": "https://localhost:8080/",
          "height": 204
        },
        "id": "gmPXvZE8Fix8",
        "outputId": "050b2768-0319-4a04-c039-74843d0e6b31"
      },
      "source": [
        "df = df[[\"tenure\", \"age\", \"address\", \"income\", \"ed\", \"employ\", \"equip\", \"churn\"]].astype(\"int\")\n",
        "df.head()"
      ],
      "execution_count": 19,
      "outputs": [
        {
          "output_type": "execute_result",
          "data": {
            "text/html": [
              "<div>\n",
              "<style scoped>\n",
              "    .dataframe tbody tr th:only-of-type {\n",
              "        vertical-align: middle;\n",
              "    }\n",
              "\n",
              "    .dataframe tbody tr th {\n",
              "        vertical-align: top;\n",
              "    }\n",
              "\n",
              "    .dataframe thead th {\n",
              "        text-align: right;\n",
              "    }\n",
              "</style>\n",
              "<table border=\"1\" class=\"dataframe\">\n",
              "  <thead>\n",
              "    <tr style=\"text-align: right;\">\n",
              "      <th></th>\n",
              "      <th>tenure</th>\n",
              "      <th>age</th>\n",
              "      <th>address</th>\n",
              "      <th>income</th>\n",
              "      <th>ed</th>\n",
              "      <th>employ</th>\n",
              "      <th>equip</th>\n",
              "      <th>churn</th>\n",
              "    </tr>\n",
              "  </thead>\n",
              "  <tbody>\n",
              "    <tr>\n",
              "      <th>0</th>\n",
              "      <td>11</td>\n",
              "      <td>33</td>\n",
              "      <td>7</td>\n",
              "      <td>136</td>\n",
              "      <td>5</td>\n",
              "      <td>5</td>\n",
              "      <td>0</td>\n",
              "      <td>1</td>\n",
              "    </tr>\n",
              "    <tr>\n",
              "      <th>1</th>\n",
              "      <td>33</td>\n",
              "      <td>33</td>\n",
              "      <td>12</td>\n",
              "      <td>33</td>\n",
              "      <td>2</td>\n",
              "      <td>0</td>\n",
              "      <td>0</td>\n",
              "      <td>1</td>\n",
              "    </tr>\n",
              "    <tr>\n",
              "      <th>2</th>\n",
              "      <td>23</td>\n",
              "      <td>30</td>\n",
              "      <td>9</td>\n",
              "      <td>30</td>\n",
              "      <td>1</td>\n",
              "      <td>2</td>\n",
              "      <td>0</td>\n",
              "      <td>0</td>\n",
              "    </tr>\n",
              "    <tr>\n",
              "      <th>3</th>\n",
              "      <td>38</td>\n",
              "      <td>35</td>\n",
              "      <td>5</td>\n",
              "      <td>76</td>\n",
              "      <td>2</td>\n",
              "      <td>10</td>\n",
              "      <td>1</td>\n",
              "      <td>0</td>\n",
              "    </tr>\n",
              "    <tr>\n",
              "      <th>4</th>\n",
              "      <td>7</td>\n",
              "      <td>35</td>\n",
              "      <td>14</td>\n",
              "      <td>80</td>\n",
              "      <td>2</td>\n",
              "      <td>15</td>\n",
              "      <td>0</td>\n",
              "      <td>0</td>\n",
              "    </tr>\n",
              "  </tbody>\n",
              "</table>\n",
              "</div>"
            ],
            "text/plain": [
              "   tenure  age  address  income  ed  employ  equip  churn\n",
              "0      11   33        7     136   5       5      0      1\n",
              "1      33   33       12      33   2       0      0      1\n",
              "2      23   30        9      30   1       2      0      0\n",
              "3      38   35        5      76   2      10      1      0\n",
              "4       7   35       14      80   2      15      0      0"
            ]
          },
          "metadata": {},
          "execution_count": 19
        }
      ]
    },
    {
      "cell_type": "markdown",
      "metadata": {
        "id": "0gZ_OoejGLIv"
      },
      "source": [
        "When we use scikit learn, it's important to transform the type of the data to an integer"
      ]
    },
    {
      "cell_type": "code",
      "metadata": {
        "colab": {
          "base_uri": "https://localhost:8080/"
        },
        "id": "KHaui0p4Gsen",
        "outputId": "e2d00720-d2a1-4074-be5d-0969917e6d9a"
      },
      "source": [
        "X = np.asanyarray(df[[\"tenure\", \"age\", \"address\", \"income\", \"ed\", \"employ\", \"equip\"]])\n",
        "y = np.asanyarray(df[\"churn\"])\n",
        "\n",
        "print(X[0:5])\n",
        "print(y[0:5])"
      ],
      "execution_count": 20,
      "outputs": [
        {
          "output_type": "stream",
          "name": "stdout",
          "text": [
            "[[ 11  33   7 136   5   5   0]\n",
            " [ 33  33  12  33   2   0   0]\n",
            " [ 23  30   9  30   1   2   0]\n",
            " [ 38  35   5  76   2  10   1]\n",
            " [  7  35  14  80   2  15   0]]\n",
            "[1 1 0 0 0]\n"
          ]
        }
      ]
    },
    {
      "cell_type": "code",
      "metadata": {
        "id": "-JeZOVe5G38S"
      },
      "source": [
        "from sklearn.preprocessing import StandardScaler"
      ],
      "execution_count": 22,
      "outputs": []
    },
    {
      "cell_type": "code",
      "metadata": {
        "colab": {
          "base_uri": "https://localhost:8080/"
        },
        "id": "TNDA3ClnPaM_",
        "outputId": "5cb63843-ab58-4cc1-cd11-2d8aba0ddd64"
      },
      "source": [
        "standard = StandardScaler()\n",
        "\n",
        "X_standard = standard.fit_transform(X)\n",
        "X_standard[0:5]"
      ],
      "execution_count": 24,
      "outputs": [
        {
          "output_type": "execute_result",
          "data": {
            "text/plain": [
              "array([[-1.13518441, -0.62595491, -0.4588971 ,  0.4751423 ,  1.6961288 ,\n",
              "        -0.58477841, -0.85972695],\n",
              "       [-0.11604313, -0.62595491,  0.03454064, -0.32886061, -0.6433592 ,\n",
              "        -1.14437497, -0.85972695],\n",
              "       [-0.57928917, -0.85594447, -0.261522  , -0.35227817, -1.42318853,\n",
              "        -0.92053635, -0.85972695],\n",
              "       [ 0.11557989, -0.47262854, -0.65627219,  0.00679109, -0.6433592 ,\n",
              "        -0.02518185,  1.16316   ],\n",
              "       [-1.32048283, -0.47262854,  0.23191574,  0.03801451, -0.6433592 ,\n",
              "         0.53441472, -0.85972695]])"
            ]
          },
          "metadata": {},
          "execution_count": 24
        }
      ]
    },
    {
      "cell_type": "code",
      "metadata": {
        "id": "Q9fY-N-dPrTu"
      },
      "source": [
        "from sklearn.model_selection import train_test_split"
      ],
      "execution_count": 25,
      "outputs": []
    },
    {
      "cell_type": "code",
      "metadata": {
        "colab": {
          "base_uri": "https://localhost:8080/"
        },
        "id": "apUhHaanP15_",
        "outputId": "1687e419-d32b-40f6-8800-cc8640a7e66b"
      },
      "source": [
        "X_train, X_test, y_train, y_test = train_test_split(X_standard, y, test_size = 0.2, random_state = 4)\n",
        "\n",
        "print(\"the shape of the training set: {}\".format(X_train.shape[0]))\n",
        "print(\"the shape of the test set: {}\".format(X_test.shape[0]))"
      ],
      "execution_count": 28,
      "outputs": [
        {
          "output_type": "stream",
          "name": "stdout",
          "text": [
            "the shape of the training set: 160\n",
            "the shape of the test set: 40\n"
          ]
        }
      ]
    },
    {
      "cell_type": "markdown",
      "metadata": {
        "id": "5OUxplLdQY8E"
      },
      "source": [
        "**Modeling**\n",
        "\n",
        "The version of Logistic Regression in Scikit-learn, support regularization. Regularization is a technique used to solve the overfitting problem of machine learning models. C parameter indicates **inverse of regularization strength** which must be a positive float. Smaller values specify stronger regularization. Now let's fit our model with train set:"
      ]
    },
    {
      "cell_type": "code",
      "metadata": {
        "id": "zdCr9cEYQKR4"
      },
      "source": [
        "from sklearn.linear_model import LogisticRegression\n",
        "from sklearn.metrics import confusion_matrix"
      ],
      "execution_count": 31,
      "outputs": []
    },
    {
      "cell_type": "code",
      "metadata": {
        "colab": {
          "base_uri": "https://localhost:8080/"
        },
        "id": "nemd0eAxQkEv",
        "outputId": "936398d2-664f-453c-d225-3d23dde0ef9b"
      },
      "source": [
        "lr = LogisticRegression(C = 0.01, solver = \"liblinear\")\n",
        "lr.fit(X_train, y_train)\n",
        "\n",
        "y_hat = lr.predict(X_test)\n",
        "\n",
        "print(\"The original values:  {}\".format(y_test[0:5]))\n",
        "print(\"The predicted values: {}\".format(y_hat[0:5]))"
      ],
      "execution_count": 33,
      "outputs": [
        {
          "output_type": "stream",
          "name": "stdout",
          "text": [
            "The original values:  [0 0 1 0 1]\n",
            "The predicted values: [0 0 0 0 0]\n"
          ]
        }
      ]
    },
    {
      "cell_type": "markdown",
      "metadata": {
        "id": "hOscqWnQRQlj"
      },
      "source": [
        "**predict_proba** returns estimates for all classes, ordered by the label of classes. So, the first column is the probability of class 0, P(Y=0|X), and second column is probability of class 1, $P(Y=1|X)$:"
      ]
    },
    {
      "cell_type": "code",
      "metadata": {
        "colab": {
          "base_uri": "https://localhost:8080/"
        },
        "id": "o4n9nzCIRH25",
        "outputId": "7859c436-ea72-4363-fb0d-f2629c260c61"
      },
      "source": [
        "y_hat_prob = lr.predict_proba(X_test)\n",
        "\n",
        "print(\"The original values:  {}\".format(y_test[0:5]))\n",
        "print(\"The probability of predicted target: \\nP(y = 0 | x)  P(y = 1 | x) \\n{} \".format(y_hat_prob[0:5]))"
      ],
      "execution_count": 41,
      "outputs": [
        {
          "output_type": "stream",
          "name": "stdout",
          "text": [
            "The original values:  [0 0 1 0 1]\n",
            "The probability of predicted target: \n",
            "P(y = 0 | x)  P(y = 1 | x) \n",
            "[[0.54132919 0.45867081]\n",
            " [0.60593357 0.39406643]\n",
            " [0.56277713 0.43722287]\n",
            " [0.63432489 0.36567511]\n",
            " [0.56431839 0.43568161]] \n"
          ]
        }
      ]
    },
    {
      "cell_type": "markdown",
      "metadata": {
        "id": "hwp2OapLSE5L"
      },
      "source": [
        "**Evaluation**\n",
        "\n"
      ]
    },
    {
      "cell_type": "markdown",
      "metadata": {
        "id": "dQezKh1aSJ0n"
      },
      "source": [
        "**Jaccard index**\n",
        "\n",
        "Let's try the jaccard index for accuracy evaluation. we can define jaccard as the size of the intersection divided by the size of the union of the two label sets. If the entire set of predicted labels for a sample strictly matches with the true set of labels, then the subset accuracy is 1.0; otherwise it is 0.0."
      ]
    },
    {
      "cell_type": "code",
      "metadata": {
        "id": "dQF2CseqRmPB"
      },
      "source": [
        "from sklearn.metrics import jaccard_score"
      ],
      "execution_count": 42,
      "outputs": []
    },
    {
      "cell_type": "code",
      "metadata": {
        "colab": {
          "base_uri": "https://localhost:8080/"
        },
        "id": "mBF3urojSVTA",
        "outputId": "1d449368-0082-4047-f330-429625f33282"
      },
      "source": [
        "idx_jaccard = jaccard_score(y_test, y_hat, pos_label = 0)\n",
        "print(\"The jaccard index values is: {}\".format(idx_jaccard))"
      ],
      "execution_count": 44,
      "outputs": [
        {
          "output_type": "stream",
          "name": "stdout",
          "text": [
            "The jaccard index values is: 0.7058823529411765\n"
          ]
        }
      ]
    },
    {
      "cell_type": "markdown",
      "metadata": {
        "id": "sJu50FXySpXv"
      },
      "source": [
        "**Confusion matrix**"
      ]
    },
    {
      "cell_type": "code",
      "metadata": {
        "colab": {
          "base_uri": "https://localhost:8080/"
        },
        "id": "d6p71GqESaKx",
        "outputId": "d8b371d7-1cba-4873-9e73-2dd1797008fb"
      },
      "source": [
        "from sklearn.metrics import classification_report, confusion_matrix\n",
        "import itertools\n",
        "def plot_confusion_matrix(cm, classes,\n",
        "                          normalize=False,\n",
        "                          title='Confusion matrix',\n",
        "                          cmap=plt.cm.Blues):\n",
        "    \"\"\"\n",
        "    This function prints and plots the confusion matrix.\n",
        "    Normalization can be applied by setting `normalize=True`.\n",
        "    \"\"\"\n",
        "    if normalize:\n",
        "        cm = cm.astype('float') / cm.sum(axis=1)[:, np.newaxis]\n",
        "        print(\"Normalized confusion matrix\")\n",
        "    else:\n",
        "        print('Confusion matrix, without normalization')\n",
        "\n",
        "    print(cm)\n",
        "\n",
        "    plt.imshow(cm, interpolation='nearest', cmap=cmap)\n",
        "    plt.title(title)\n",
        "    plt.colorbar()\n",
        "    tick_marks = np.arange(len(classes))\n",
        "    plt.xticks(tick_marks, classes, rotation=45)\n",
        "    plt.yticks(tick_marks, classes)\n",
        "\n",
        "    fmt = '.2f' if normalize else 'd'\n",
        "    thresh = cm.max() / 2.\n",
        "    for i, j in itertools.product(range(cm.shape[0]), range(cm.shape[1])):\n",
        "        plt.text(j, i, format(cm[i, j], fmt),\n",
        "                 horizontalalignment=\"center\",\n",
        "                 color=\"white\" if cm[i, j] > thresh else \"black\")\n",
        "\n",
        "    plt.tight_layout()\n",
        "    plt.ylabel('True label')\n",
        "    plt.xlabel('Predicted label')\n",
        "print(confusion_matrix(y_test, y_hat, labels=[1,0]))"
      ],
      "execution_count": 46,
      "outputs": [
        {
          "output_type": "stream",
          "name": "stdout",
          "text": [
            "[[ 6  9]\n",
            " [ 1 24]]\n"
          ]
        }
      ]
    },
    {
      "cell_type": "code",
      "metadata": {
        "colab": {
          "base_uri": "https://localhost:8080/",
          "height": 362
        },
        "id": "CNZXycFbSvSe",
        "outputId": "f58aac51-5d64-4359-8b74-12d034df6277"
      },
      "source": [
        "cnf_matrix = confusion_matrix(y_test, y_hat, labels = [1, 0])\n",
        "np.set_printoptions(precision = 2)\n",
        "\n",
        "plt.figure()\n",
        "plot_confusion_matrix(cnf_matrix, classes = [\"churn - 1\", \"churn - 0\"], normalize = False, title = \"Confusion matrix\")"
      ],
      "execution_count": 48,
      "outputs": [
        {
          "output_type": "stream",
          "name": "stdout",
          "text": [
            "Confusion matrix, without normalization\n",
            "[[ 6  9]\n",
            " [ 1 24]]\n"
          ]
        },
        {
          "output_type": "display_data",
          "data": {
            "image/png": "[encoded data removed]",
            "text/plain": [
              "<Figure size 432x288 with 2 Axes>"
            ]
          },
          "metadata": {
            "needs_background": "light"
          }
        }
      ]
    },
    {
      "cell_type": "code",
      "metadata": {
        "colab": {
          "base_uri": "https://localhost:8080/"
        },
        "id": "4hOOS5bMTSq2",
        "outputId": "83a39e0b-cbaf-4cab-c720-c43d082e9ca3"
      },
      "source": [
        "print(classification_report(y_test, y_hat))"
      ],
      "execution_count": 49,
      "outputs": [
        {
          "output_type": "stream",
          "name": "stdout",
          "text": [
            "              precision    recall  f1-score   support\n",
            "\n",
            "           0       0.73      0.96      0.83        25\n",
            "           1       0.86      0.40      0.55        15\n",
            "\n",
            "    accuracy                           0.75        40\n",
            "   macro avg       0.79      0.68      0.69        40\n",
            "weighted avg       0.78      0.75      0.72        40\n",
            "\n"
          ]
        }
      ]
    },
    {
      "cell_type": "code",
      "metadata": {
        "id": "8jfumLSlT05v"
      },
      "source": [
        "from sklearn.metrics import log_loss"
      ],
      "execution_count": 51,
      "outputs": []
    },
    {
      "cell_type": "markdown",
      "metadata": {
        "id": "kJh48heaU28z"
      },
      "source": [
        "**Log loss**\n",
        "\n",
        "Now, let's try log loss for evaluation. In logistic regression, the output can be the probability of customer churn is yes (or equals to 1). This probability is a value between 0 and 1. Log loss( Logarithmic loss) measures the performance of a classifier where the predicted output is a probability value between 0 and 1."
      ]
    },
    {
      "cell_type": "code",
      "metadata": {
        "colab": {
          "base_uri": "https://localhost:8080/"
        },
        "id": "1_pcGN-WUsP7",
        "outputId": "21e51ced-cde3-46f5-b4cc-022933ddaa10"
      },
      "source": [
        "log_loss(y_test, y_hat_prob)"
      ],
      "execution_count": 53,
      "outputs": [
        {
          "output_type": "execute_result",
          "data": {
            "text/plain": [
              "0.6017092478101185"
            ]
          },
          "metadata": {},
          "execution_count": 53
        }
      ]
    }
  ]
}