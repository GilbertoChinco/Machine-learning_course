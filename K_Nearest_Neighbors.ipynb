{
  "nbformat": 4,
  "nbformat_minor": 0,
  "metadata": {
    "colab": {
      "name": "K_Nearest_Neighbors.ipynb",
      "provenance": [],
      "collapsed_sections": []
    },
    "kernelspec": {
      "name": "python3",
      "display_name": "Python 3"
    },
    "language_info": {
      "name": "python"
    }
  },
  "cells": [
    {
      "cell_type": "markdown",
      "metadata": {
        "id": "z28pcZap3sNi"
      },
      "source": [
        "# Classification Algorithms\n",
        "\n",
        "\n"
      ]
    },
    {
      "cell_type": "markdown",
      "metadata": {
        "id": "PoqUVaVU30HU"
      },
      "source": [
        "## K - Neareast Neighbors\n",
        "\n",
        "is a supervised learning algorithm. Where the data is 'trained' with data points corresponding to their classification. To predict the class of a given data point, it takes into account the classes of the 'K' nearest data points and chooses the class in which the majority of the 'K' nearest data points belong to as the predicted class.\n",
        "\n",
        "* A method for classifying cases based on their similarity to other cases\n",
        "* Cases that are near each other are said to be \"Neighbors\"\n",
        "* Based on similar cases with same class labels are near each other\n",
        "\n",
        "*Process algorithm*\n",
        "1. Pick a value for K\n",
        "2. Calculate the distance of unknown case from all cases\n",
        "3. Select the k-observatins in the training data that are \"nearest\" to the unknown data point\n",
        "4. Predict the response of the unknown data point using the most popular response value from the K-nearest neighbors\n",
        "\n",
        "Similarity/Distance in a multidimensial space\n",
        "\n",
        "$Dis(x_1, x_2) = \\sqrt{\\sum_{i = 0}^{n}{(x_{1i} - x_{2i})^2}}$"
      ]
    },
    {
      "cell_type": "markdown",
      "metadata": {
        "id": "EOoMho2dFbf1"
      },
      "source": [
        "## Classification Accuracy\n",
        "\n",
        "**Jaccard index**\n",
        "\n",
        "* $y$ :Actual labels\n",
        "* $\\hat{y}$: Predicted labels\n",
        "\n",
        "$J(y, \\hat{y}) = \\frac{|y \\cap \\hat{y}|}{|y \\cup \\hat{y}|} = \n",
        "\\frac{|y \\cap \\hat{y}|}{|y| + |\\hat{y}| + |y \\cap \\hat{y}|}$\n",
        "\n",
        "$J(y, \\hat{y}) = 1.0$ --> Higher Accuracy\n",
        "\n",
        "**F1-score**\n",
        "* Precision = $TP = \\frac{TP}{TP + FP}$\n",
        "* Recall = $\\frac{TP}{TP + FN}$\n",
        "* F1-score = $2x \\frac{prc * rec}{prc+ rec} == 1.0$ Higher accuracy\n",
        "\n",
        "**Log loss**\n",
        "Performance of a classifier where the predicted output is a probability value between 0 and 1\n",
        "\n",
        "$LogLoss = -\\frac{1}{n}\\sum{(y log(\\hat{y})) + (1 - y)log(1-\\hat{y})}$\n"
      ]
    },
    {
      "cell_type": "code",
      "metadata": {
        "id": "QPAE6YvU2_O-"
      },
      "source": [
        "import numpy as np\n",
        "import matplotlib.pyplot as plt\n",
        "import pandas as pd\n",
        "import numpy as np\n",
        "from sklearn import preprocessing\n",
        "%matplotlib inline"
      ],
      "execution_count": 1,
      "outputs": []
    },
    {
      "cell_type": "markdown",
      "metadata": {
        "id": "OmihMQw65ePH"
      },
      "source": [
        "**The dataset**\n",
        "\n",
        "magine a telecommunications provider has segmented its customer base by service usage patterns, categorizing the customers into four groups. If demographic data can be used to predict group membership, the company can customize offers for individual prospective customers. It is a classification problem. That is, given the dataset, with predefined labels, we need to build a model to be used to predict class of a new or unknown case.\n",
        "\n",
        "The target field, called custcat, has four possible values that correspond to the four customer groups, as follows: \n",
        "* 1- Basic Service \n",
        "* 2- E-Service \n",
        "* 3- Plus Service \n",
        "* 4- Total Service"
      ]
    },
    {
      "cell_type": "code",
      "metadata": {
        "colab": {
          "base_uri": "https://localhost:8080/"
        },
        "id": "yaEV9y054xpw",
        "outputId": "f98f6dc5-ae12-4718-d83c-6b6495b264f9"
      },
      "source": [
        "!wget -O teleCust1000t.csv https://cf-courses-data.s3.us.cloud-object-storage.appdomain.cloud/IBMDeveloperSkillsNetwork-ML0101EN-SkillsNetwork/labs/Module%203/data/teleCust1000t.csv"
      ],
      "execution_count": 2,
      "outputs": [
        {
          "output_type": "stream",
          "name": "stdout",
          "text": [
            "--2021-11-13 20:05:26--  https://cf-courses-data.s3.us.cloud-object-storage.appdomain.cloud/IBMDeveloperSkillsNetwork-ML0101EN-SkillsNetwork/labs/Module%203/data/teleCust1000t.csv\n",
            "Resolving cf-courses-data.s3.us.cloud-object-storage.appdomain.cloud (cf-courses-data.s3.us.cloud-object-storage.appdomain.cloud)... 169.45.118.108\n",
            "Connecting to cf-courses-data.s3.us.cloud-object-storage.appdomain.cloud (cf-courses-data.s3.us.cloud-object-storage.appdomain.cloud)|169.45.118.108|:443... connected.\n",
            "HTTP request sent, awaiting response... 200 OK\n",
            "Length: 36047 (35K) [text/csv]\n",
            "Saving to: ‘teleCust1000t.csv’\n",
            "\n",
            "teleCust1000t.csv   100%[===================>]  35.20K  --.-KB/s    in 0.02s   \n",
            "\n",
            "2021-11-13 20:05:26 (2.15 MB/s) - ‘teleCust1000t.csv’ saved [36047/36047]\n",
            "\n"
          ]
        }
      ]
    },
    {
      "cell_type": "code",
      "metadata": {
        "colab": {
          "base_uri": "https://localhost:8080/",
          "height": 204
        },
        "id": "4N_xuK6r55y3",
        "outputId": "e0534956-b641-424e-b3ce-047d4aedd8d4"
      },
      "source": [
        "df = pd.read_csv(\"teleCust1000t.csv\")\n",
        "df.head()"
      ],
      "execution_count": 3,
      "outputs": [
        {
          "output_type": "execute_result",
          "data": {
            "text/html": [
              "<div>\n",
              "<style scoped>\n",
              "    .dataframe tbody tr th:only-of-type {\n",
              "        vertical-align: middle;\n",
              "    }\n",
              "\n",
              "    .dataframe tbody tr th {\n",
              "        vertical-align: top;\n",
              "    }\n",
              "\n",
              "    .dataframe thead th {\n",
              "        text-align: right;\n",
              "    }\n",
              "</style>\n",
              "<table border=\"1\" class=\"dataframe\">\n",
              "  <thead>\n",
              "    <tr style=\"text-align: right;\">\n",
              "      <th></th>\n",
              "      <th>region</th>\n",
              "      <th>tenure</th>\n",
              "      <th>age</th>\n",
              "      <th>marital</th>\n",
              "      <th>address</th>\n",
              "      <th>income</th>\n",
              "      <th>ed</th>\n",
              "      <th>employ</th>\n",
              "      <th>retire</th>\n",
              "      <th>gender</th>\n",
              "      <th>reside</th>\n",
              "      <th>custcat</th>\n",
              "    </tr>\n",
              "  </thead>\n",
              "  <tbody>\n",
              "    <tr>\n",
              "      <th>0</th>\n",
              "      <td>2</td>\n",
              "      <td>13</td>\n",
              "      <td>44</td>\n",
              "      <td>1</td>\n",
              "      <td>9</td>\n",
              "      <td>64.0</td>\n",
              "      <td>4</td>\n",
              "      <td>5</td>\n",
              "      <td>0.0</td>\n",
              "      <td>0</td>\n",
              "      <td>2</td>\n",
              "      <td>1</td>\n",
              "    </tr>\n",
              "    <tr>\n",
              "      <th>1</th>\n",
              "      <td>3</td>\n",
              "      <td>11</td>\n",
              "      <td>33</td>\n",
              "      <td>1</td>\n",
              "      <td>7</td>\n",
              "      <td>136.0</td>\n",
              "      <td>5</td>\n",
              "      <td>5</td>\n",
              "      <td>0.0</td>\n",
              "      <td>0</td>\n",
              "      <td>6</td>\n",
              "      <td>4</td>\n",
              "    </tr>\n",
              "    <tr>\n",
              "      <th>2</th>\n",
              "      <td>3</td>\n",
              "      <td>68</td>\n",
              "      <td>52</td>\n",
              "      <td>1</td>\n",
              "      <td>24</td>\n",
              "      <td>116.0</td>\n",
              "      <td>1</td>\n",
              "      <td>29</td>\n",
              "      <td>0.0</td>\n",
              "      <td>1</td>\n",
              "      <td>2</td>\n",
              "      <td>3</td>\n",
              "    </tr>\n",
              "    <tr>\n",
              "      <th>3</th>\n",
              "      <td>2</td>\n",
              "      <td>33</td>\n",
              "      <td>33</td>\n",
              "      <td>0</td>\n",
              "      <td>12</td>\n",
              "      <td>33.0</td>\n",
              "      <td>2</td>\n",
              "      <td>0</td>\n",
              "      <td>0.0</td>\n",
              "      <td>1</td>\n",
              "      <td>1</td>\n",
              "      <td>1</td>\n",
              "    </tr>\n",
              "    <tr>\n",
              "      <th>4</th>\n",
              "      <td>2</td>\n",
              "      <td>23</td>\n",
              "      <td>30</td>\n",
              "      <td>1</td>\n",
              "      <td>9</td>\n",
              "      <td>30.0</td>\n",
              "      <td>1</td>\n",
              "      <td>2</td>\n",
              "      <td>0.0</td>\n",
              "      <td>0</td>\n",
              "      <td>4</td>\n",
              "      <td>3</td>\n",
              "    </tr>\n",
              "  </tbody>\n",
              "</table>\n",
              "</div>"
            ],
            "text/plain": [
              "   region  tenure  age  marital  ...  retire  gender  reside  custcat\n",
              "0       2      13   44        1  ...     0.0       0       2        1\n",
              "1       3      11   33        1  ...     0.0       0       6        4\n",
              "2       3      68   52        1  ...     0.0       1       2        3\n",
              "3       2      33   33        0  ...     0.0       1       1        1\n",
              "4       2      23   30        1  ...     0.0       0       4        3\n",
              "\n",
              "[5 rows x 12 columns]"
            ]
          },
          "metadata": {},
          "execution_count": 3
        }
      ]
    },
    {
      "cell_type": "code",
      "metadata": {
        "colab": {
          "base_uri": "https://localhost:8080/"
        },
        "id": "dID-bgM86ATV",
        "outputId": "2873aff1-c4bb-482b-ac7e-6cd4e79d1e86"
      },
      "source": [
        "df.shape"
      ],
      "execution_count": 5,
      "outputs": [
        {
          "output_type": "execute_result",
          "data": {
            "text/plain": [
              "(1000, 12)"
            ]
          },
          "metadata": {},
          "execution_count": 5
        }
      ]
    },
    {
      "cell_type": "code",
      "metadata": {
        "colab": {
          "base_uri": "https://localhost:8080/"
        },
        "id": "EKUg_kKQ6GYe",
        "outputId": "701cceac-9555-4ce5-8aba-361940647203"
      },
      "source": [
        "df.dtypes"
      ],
      "execution_count": 6,
      "outputs": [
        {
          "output_type": "execute_result",
          "data": {
            "text/plain": [
              "region       int64\n",
              "tenure       int64\n",
              "age          int64\n",
              "marital      int64\n",
              "address      int64\n",
              "income     float64\n",
              "ed           int64\n",
              "employ       int64\n",
              "retire     float64\n",
              "gender       int64\n",
              "reside       int64\n",
              "custcat      int64\n",
              "dtype: object"
            ]
          },
          "metadata": {},
          "execution_count": 6
        }
      ]
    },
    {
      "cell_type": "code",
      "metadata": {
        "colab": {
          "base_uri": "https://localhost:8080/"
        },
        "id": "mlSmo3Pm6JYd",
        "outputId": "a7780ed2-ed78-4d3b-e102-3713c5ef4d82"
      },
      "source": [
        "df.isnull().sum()"
      ],
      "execution_count": 7,
      "outputs": [
        {
          "output_type": "execute_result",
          "data": {
            "text/plain": [
              "region     0\n",
              "tenure     0\n",
              "age        0\n",
              "marital    0\n",
              "address    0\n",
              "income     0\n",
              "ed         0\n",
              "employ     0\n",
              "retire     0\n",
              "gender     0\n",
              "reside     0\n",
              "custcat    0\n",
              "dtype: int64"
            ]
          },
          "metadata": {},
          "execution_count": 7
        }
      ]
    },
    {
      "cell_type": "code",
      "metadata": {
        "colab": {
          "base_uri": "https://localhost:8080/",
          "height": 421
        },
        "id": "9xtVpihX6OBd",
        "outputId": "92d2ecbf-68f9-4098-b5e3-b42489e6c717"
      },
      "source": [
        "df.corr()"
      ],
      "execution_count": 8,
      "outputs": [
        {
          "output_type": "execute_result",
          "data": {
            "text/html": [
              "<div>\n",
              "<style scoped>\n",
              "    .dataframe tbody tr th:only-of-type {\n",
              "        vertical-align: middle;\n",
              "    }\n",
              "\n",
              "    .dataframe tbody tr th {\n",
              "        vertical-align: top;\n",
              "    }\n",
              "\n",
              "    .dataframe thead th {\n",
              "        text-align: right;\n",
              "    }\n",
              "</style>\n",
              "<table border=\"1\" class=\"dataframe\">\n",
              "  <thead>\n",
              "    <tr style=\"text-align: right;\">\n",
              "      <th></th>\n",
              "      <th>region</th>\n",
              "      <th>tenure</th>\n",
              "      <th>age</th>\n",
              "      <th>marital</th>\n",
              "      <th>address</th>\n",
              "      <th>income</th>\n",
              "      <th>ed</th>\n",
              "      <th>employ</th>\n",
              "      <th>retire</th>\n",
              "      <th>gender</th>\n",
              "      <th>reside</th>\n",
              "      <th>custcat</th>\n",
              "    </tr>\n",
              "  </thead>\n",
              "  <tbody>\n",
              "    <tr>\n",
              "      <th>region</th>\n",
              "      <td>1.000000</td>\n",
              "      <td>0.016388</td>\n",
              "      <td>0.015034</td>\n",
              "      <td>-0.080637</td>\n",
              "      <td>0.010320</td>\n",
              "      <td>0.023765</td>\n",
              "      <td>-0.057952</td>\n",
              "      <td>0.016335</td>\n",
              "      <td>0.005595</td>\n",
              "      <td>0.050596</td>\n",
              "      <td>-0.065158</td>\n",
              "      <td>-0.023771</td>\n",
              "    </tr>\n",
              "    <tr>\n",
              "      <th>tenure</th>\n",
              "      <td>0.016388</td>\n",
              "      <td>1.000000</td>\n",
              "      <td>0.490217</td>\n",
              "      <td>0.154171</td>\n",
              "      <td>0.522952</td>\n",
              "      <td>0.242912</td>\n",
              "      <td>-0.109797</td>\n",
              "      <td>0.520288</td>\n",
              "      <td>0.171143</td>\n",
              "      <td>0.023533</td>\n",
              "      <td>-0.036592</td>\n",
              "      <td>0.166691</td>\n",
              "    </tr>\n",
              "    <tr>\n",
              "      <th>age</th>\n",
              "      <td>0.015034</td>\n",
              "      <td>0.490217</td>\n",
              "      <td>1.000000</td>\n",
              "      <td>-0.014433</td>\n",
              "      <td>0.660435</td>\n",
              "      <td>0.327948</td>\n",
              "      <td>-0.154857</td>\n",
              "      <td>0.670047</td>\n",
              "      <td>0.429440</td>\n",
              "      <td>-0.011419</td>\n",
              "      <td>-0.254993</td>\n",
              "      <td>0.056909</td>\n",
              "    </tr>\n",
              "    <tr>\n",
              "      <th>marital</th>\n",
              "      <td>-0.080637</td>\n",
              "      <td>0.154171</td>\n",
              "      <td>-0.014433</td>\n",
              "      <td>1.000000</td>\n",
              "      <td>-0.012051</td>\n",
              "      <td>-0.043984</td>\n",
              "      <td>0.001400</td>\n",
              "      <td>-0.002891</td>\n",
              "      <td>-0.078109</td>\n",
              "      <td>0.008345</td>\n",
              "      <td>0.625999</td>\n",
              "      <td>0.083836</td>\n",
              "    </tr>\n",
              "    <tr>\n",
              "      <th>address</th>\n",
              "      <td>0.010320</td>\n",
              "      <td>0.522952</td>\n",
              "      <td>0.660435</td>\n",
              "      <td>-0.012051</td>\n",
              "      <td>1.000000</td>\n",
              "      <td>0.226781</td>\n",
              "      <td>-0.128330</td>\n",
              "      <td>0.463291</td>\n",
              "      <td>0.292503</td>\n",
              "      <td>0.008363</td>\n",
              "      <td>-0.201645</td>\n",
              "      <td>0.067913</td>\n",
              "    </tr>\n",
              "    <tr>\n",
              "      <th>income</th>\n",
              "      <td>0.023765</td>\n",
              "      <td>0.242912</td>\n",
              "      <td>0.327948</td>\n",
              "      <td>-0.043984</td>\n",
              "      <td>0.226781</td>\n",
              "      <td>1.000000</td>\n",
              "      <td>0.113939</td>\n",
              "      <td>0.516349</td>\n",
              "      <td>-0.083651</td>\n",
              "      <td>0.038706</td>\n",
              "      <td>-0.097591</td>\n",
              "      <td>0.134525</td>\n",
              "    </tr>\n",
              "    <tr>\n",
              "      <th>ed</th>\n",
              "      <td>-0.057952</td>\n",
              "      <td>-0.109797</td>\n",
              "      <td>-0.154857</td>\n",
              "      <td>0.001400</td>\n",
              "      <td>-0.128330</td>\n",
              "      <td>0.113939</td>\n",
              "      <td>1.000000</td>\n",
              "      <td>-0.228580</td>\n",
              "      <td>-0.114229</td>\n",
              "      <td>0.006704</td>\n",
              "      <td>0.021045</td>\n",
              "      <td>0.193864</td>\n",
              "    </tr>\n",
              "    <tr>\n",
              "      <th>employ</th>\n",
              "      <td>0.016335</td>\n",
              "      <td>0.520288</td>\n",
              "      <td>0.670047</td>\n",
              "      <td>-0.002891</td>\n",
              "      <td>0.463291</td>\n",
              "      <td>0.516349</td>\n",
              "      <td>-0.228580</td>\n",
              "      <td>1.000000</td>\n",
              "      <td>0.277401</td>\n",
              "      <td>0.046016</td>\n",
              "      <td>-0.134683</td>\n",
              "      <td>0.110011</td>\n",
              "    </tr>\n",
              "    <tr>\n",
              "      <th>retire</th>\n",
              "      <td>0.005595</td>\n",
              "      <td>0.171143</td>\n",
              "      <td>0.429440</td>\n",
              "      <td>-0.078109</td>\n",
              "      <td>0.292503</td>\n",
              "      <td>-0.083651</td>\n",
              "      <td>-0.114229</td>\n",
              "      <td>0.277401</td>\n",
              "      <td>1.000000</td>\n",
              "      <td>0.053906</td>\n",
              "      <td>-0.140120</td>\n",
              "      <td>0.008908</td>\n",
              "    </tr>\n",
              "    <tr>\n",
              "      <th>gender</th>\n",
              "      <td>0.050596</td>\n",
              "      <td>0.023533</td>\n",
              "      <td>-0.011419</td>\n",
              "      <td>0.008345</td>\n",
              "      <td>0.008363</td>\n",
              "      <td>0.038706</td>\n",
              "      <td>0.006704</td>\n",
              "      <td>0.046016</td>\n",
              "      <td>0.053906</td>\n",
              "      <td>1.000000</td>\n",
              "      <td>0.016556</td>\n",
              "      <td>-0.004966</td>\n",
              "    </tr>\n",
              "    <tr>\n",
              "      <th>reside</th>\n",
              "      <td>-0.065158</td>\n",
              "      <td>-0.036592</td>\n",
              "      <td>-0.254993</td>\n",
              "      <td>0.625999</td>\n",
              "      <td>-0.201645</td>\n",
              "      <td>-0.097591</td>\n",
              "      <td>0.021045</td>\n",
              "      <td>-0.134683</td>\n",
              "      <td>-0.140120</td>\n",
              "      <td>0.016556</td>\n",
              "      <td>1.000000</td>\n",
              "      <td>0.082022</td>\n",
              "    </tr>\n",
              "    <tr>\n",
              "      <th>custcat</th>\n",
              "      <td>-0.023771</td>\n",
              "      <td>0.166691</td>\n",
              "      <td>0.056909</td>\n",
              "      <td>0.083836</td>\n",
              "      <td>0.067913</td>\n",
              "      <td>0.134525</td>\n",
              "      <td>0.193864</td>\n",
              "      <td>0.110011</td>\n",
              "      <td>0.008908</td>\n",
              "      <td>-0.004966</td>\n",
              "      <td>0.082022</td>\n",
              "      <td>1.000000</td>\n",
              "    </tr>\n",
              "  </tbody>\n",
              "</table>\n",
              "</div>"
            ],
            "text/plain": [
              "           region    tenure       age  ...    gender    reside   custcat\n",
              "region   1.000000  0.016388  0.015034  ...  0.050596 -0.065158 -0.023771\n",
              "tenure   0.016388  1.000000  0.490217  ...  0.023533 -0.036592  0.166691\n",
              "age      0.015034  0.490217  1.000000  ... -0.011419 -0.254993  0.056909\n",
              "marital -0.080637  0.154171 -0.014433  ...  0.008345  0.625999  0.083836\n",
              "address  0.010320  0.522952  0.660435  ...  0.008363 -0.201645  0.067913\n",
              "income   0.023765  0.242912  0.327948  ...  0.038706 -0.097591  0.134525\n",
              "ed      -0.057952 -0.109797 -0.154857  ...  0.006704  0.021045  0.193864\n",
              "employ   0.016335  0.520288  0.670047  ...  0.046016 -0.134683  0.110011\n",
              "retire   0.005595  0.171143  0.429440  ...  0.053906 -0.140120  0.008908\n",
              "gender   0.050596  0.023533 -0.011419  ...  1.000000  0.016556 -0.004966\n",
              "reside  -0.065158 -0.036592 -0.254993  ...  0.016556  1.000000  0.082022\n",
              "custcat -0.023771  0.166691  0.056909  ... -0.004966  0.082022  1.000000\n",
              "\n",
              "[12 rows x 12 columns]"
            ]
          },
          "metadata": {},
          "execution_count": 8
        }
      ]
    },
    {
      "cell_type": "markdown",
      "metadata": {
        "id": "czlIV4X-6sQ6"
      },
      "source": [
        "**Data visualization & analysis**"
      ]
    },
    {
      "cell_type": "code",
      "metadata": {
        "colab": {
          "base_uri": "https://localhost:8080/"
        },
        "id": "1UQ89GN76Sy2",
        "outputId": "f36f5f0a-9188-4587-c04c-2a27d01cbcf0"
      },
      "source": [
        "print(\"Types of customer: {}\".format(df[\"custcat\"].unique()))\n",
        "print(\"# of each type of customer: \\n{}\".format(df[\"custcat\"].value_counts()))"
      ],
      "execution_count": 13,
      "outputs": [
        {
          "output_type": "stream",
          "name": "stdout",
          "text": [
            "Types of customer: [1 4 3 2]\n",
            "# of each type of customer: \n",
            "3    281\n",
            "1    266\n",
            "4    236\n",
            "2    217\n",
            "Name: custcat, dtype: int64\n"
          ]
        }
      ]
    },
    {
      "cell_type": "markdown",
      "metadata": {
        "id": "ELwcmspY7U0n"
      },
      "source": [
        "* 1- Basic Service -- 266  \n",
        "* 2- E-Service      -- 217\n",
        "* 3- Plus Service  -- 281\n",
        "* 4- Total Service -- 236"
      ]
    },
    {
      "cell_type": "code",
      "metadata": {
        "colab": {
          "base_uri": "https://localhost:8080/",
          "height": 315
        },
        "id": "XhFS_G6u63WH",
        "outputId": "a5687862-8fe8-44b8-cd3d-aa0f2c5fd542"
      },
      "source": [
        "df.hist(column = \"income\", bins = 40)"
      ],
      "execution_count": 16,
      "outputs": [
        {
          "output_type": "execute_result",
          "data": {
            "text/plain": [
              "array([[<matplotlib.axes._subplots.AxesSubplot object at 0x7f7233b56a50>]],\n",
              "      dtype=object)"
            ]
          },
          "metadata": {},
          "execution_count": 16
        },
        {
          "output_type": "display_data",
          "data": {
            "image/png": "[encoded data removed]",
            "text/plain": [
              "<Figure size 432x288 with 1 Axes>"
            ]
          },
          "metadata": {
            "needs_background": "light"
          }
        }
      ]
    },
    {
      "cell_type": "markdown",
      "metadata": {
        "id": "Du8PVgeO78qi"
      },
      "source": [
        "**Feature set**"
      ]
    },
    {
      "cell_type": "code",
      "metadata": {
        "colab": {
          "base_uri": "https://localhost:8080/"
        },
        "id": "yPL4ac7P7tq_",
        "outputId": "b220d22a-dac3-4d6e-ce9e-f8f87d9f60ae"
      },
      "source": [
        "df.columns"
      ],
      "execution_count": 17,
      "outputs": [
        {
          "output_type": "execute_result",
          "data": {
            "text/plain": [
              "Index(['region', 'tenure', 'age', 'marital', 'address', 'income', 'ed',\n",
              "       'employ', 'retire', 'gender', 'reside', 'custcat'],\n",
              "      dtype='object')"
            ]
          },
          "metadata": {},
          "execution_count": 17
        }
      ]
    },
    {
      "cell_type": "code",
      "metadata": {
        "colab": {
          "base_uri": "https://localhost:8080/"
        },
        "id": "-UrW4Qh576eV",
        "outputId": "035c0f1a-f57b-437d-a744-4ec09156c1ca"
      },
      "source": [
        "#Convert the data df to np.array to use scikit learn\n",
        "X = df[['region', 'tenure', 'age', 'marital', 'address', 'income', 'ed', 'employ', 'retire', 'gender', 'reside']].values\n",
        "X[0:5]"
      ],
      "execution_count": 18,
      "outputs": [
        {
          "output_type": "execute_result",
          "data": {
            "text/plain": [
              "array([[  2.,  13.,  44.,   1.,   9.,  64.,   4.,   5.,   0.,   0.,   2.],\n",
              "       [  3.,  11.,  33.,   1.,   7., 136.,   5.,   5.,   0.,   0.,   6.],\n",
              "       [  3.,  68.,  52.,   1.,  24., 116.,   1.,  29.,   0.,   1.,   2.],\n",
              "       [  2.,  33.,  33.,   0.,  12.,  33.,   2.,   0.,   0.,   1.,   1.],\n",
              "       [  2.,  23.,  30.,   1.,   9.,  30.,   1.,   2.,   0.,   0.,   4.]])"
            ]
          },
          "metadata": {},
          "execution_count": 18
        }
      ]
    },
    {
      "cell_type": "code",
      "metadata": {
        "colab": {
          "base_uri": "https://localhost:8080/"
        },
        "id": "6msVlWN68XMP",
        "outputId": "175280a2-17b4-4935-f9ee-75bba449b961"
      },
      "source": [
        "y = df[\"custcat\"].values\n",
        "y[0:5]"
      ],
      "execution_count": 22,
      "outputs": [
        {
          "output_type": "execute_result",
          "data": {
            "text/plain": [
              "array([1, 4, 3, 1, 3])"
            ]
          },
          "metadata": {},
          "execution_count": 22
        }
      ]
    },
    {
      "cell_type": "code",
      "metadata": {
        "id": "njfiy12i8fgN"
      },
      "source": [
        "from sklearn.preprocessing import StandardScaler"
      ],
      "execution_count": 23,
      "outputs": []
    },
    {
      "cell_type": "code",
      "metadata": {
        "colab": {
          "base_uri": "https://localhost:8080/"
        },
        "id": "QoF475aw8t9m",
        "outputId": "942d8ec3-771b-4757-f6ee-7d30c9807f61"
      },
      "source": [
        "standard = StandardScaler()\n",
        "X = standard.fit_transform(X)\n",
        "X[0:5]"
      ],
      "execution_count": 25,
      "outputs": [
        {
          "output_type": "execute_result",
          "data": {
            "text/plain": [
              "array([[-0.02696767, -1.055125  ,  0.18450456,  1.0100505 , -0.25303431,\n",
              "        -0.12650641,  1.0877526 , -0.5941226 , -0.22207644, -1.03459817,\n",
              "        -0.23065004],\n",
              "       [ 1.19883553, -1.14880563, -0.69181243,  1.0100505 , -0.4514148 ,\n",
              "         0.54644972,  1.9062271 , -0.5941226 , -0.22207644, -1.03459817,\n",
              "         2.55666158],\n",
              "       [ 1.19883553,  1.52109247,  0.82182601,  1.0100505 ,  1.23481934,\n",
              "         0.35951747, -1.36767088,  1.78752803, -0.22207644,  0.96655883,\n",
              "        -0.23065004],\n",
              "       [-0.02696767, -0.11831864, -0.69181243, -0.9900495 ,  0.04453642,\n",
              "        -0.41625141, -0.54919639, -1.09029981, -0.22207644,  0.96655883,\n",
              "        -0.92747794],\n",
              "       [-0.02696767, -0.58672182, -0.93080797,  1.0100505 , -0.25303431,\n",
              "        -0.44429125, -1.36767088, -0.89182893, -0.22207644, -1.03459817,\n",
              "         1.16300577]])"
            ]
          },
          "metadata": {},
          "execution_count": 25
        }
      ]
    },
    {
      "cell_type": "code",
      "metadata": {
        "id": "23SAkkb38zMU"
      },
      "source": [
        "from sklearn.model_selection import train_test_split"
      ],
      "execution_count": 26,
      "outputs": []
    },
    {
      "cell_type": "code",
      "metadata": {
        "colab": {
          "base_uri": "https://localhost:8080/"
        },
        "id": "lPeacRg-9JX9",
        "outputId": "6b819d74-2e47-4f75-9a23-1517475fefe1"
      },
      "source": [
        "X_train, X_test, y_train, y_test = train_test_split(X, y, test_size = 0.25, random_state = 4)\n",
        "print(\"The shape of the training data X: {}, y: {}\".format(X_train.shape, y_train.shape))\n",
        "print(\"The shape of the test data X: {}, y: {}\".format(X_test.shape, y_test.shape))"
      ],
      "execution_count": 27,
      "outputs": [
        {
          "output_type": "stream",
          "name": "stdout",
          "text": [
            "The shape of the training data X: (750, 11), y: (750,)\n",
            "The shape of the test data X: (250, 11), y: (250,)\n"
          ]
        }
      ]
    },
    {
      "cell_type": "markdown",
      "metadata": {
        "id": "rKQRFeYX9q_D"
      },
      "source": [
        "**Classification**\n",
        "\n",
        "*KNN - K - Nearest Neighbor*"
      ]
    },
    {
      "cell_type": "code",
      "metadata": {
        "id": "-E3bW7QG9k7N"
      },
      "source": [
        "from sklearn.neighbors import KNeighborsClassifier"
      ],
      "execution_count": 28,
      "outputs": []
    },
    {
      "cell_type": "markdown",
      "metadata": {
        "id": "wkWoR3t492hq"
      },
      "source": [
        "Let's try the algorithm with k = 4\n"
      ]
    },
    {
      "cell_type": "markdown",
      "metadata": {
        "id": "7WIdMHkg-LMJ"
      },
      "source": [
        "**Training**"
      ]
    },
    {
      "cell_type": "code",
      "metadata": {
        "colab": {
          "base_uri": "https://localhost:8080/"
        },
        "id": "reYqQmbL90bX",
        "outputId": "907b8969-b677-4c1c-b783-a09c891f2d16"
      },
      "source": [
        "k = 4\n",
        "knn = KNeighborsClassifier(n_neighbors = k)\n",
        "knn.fit(X_train, y_train)\n",
        "knn"
      ],
      "execution_count": 29,
      "outputs": [
        {
          "output_type": "execute_result",
          "data": {
            "text/plain": [
              "KNeighborsClassifier(algorithm='auto', leaf_size=30, metric='minkowski',\n",
              "                     metric_params=None, n_jobs=None, n_neighbors=4, p=2,\n",
              "                     weights='uniform')"
            ]
          },
          "metadata": {},
          "execution_count": 29
        }
      ]
    },
    {
      "cell_type": "markdown",
      "metadata": {
        "id": "YislYiAm-NjF"
      },
      "source": [
        "**Testing**"
      ]
    },
    {
      "cell_type": "code",
      "metadata": {
        "colab": {
          "base_uri": "https://localhost:8080/"
        },
        "id": "35Sk4wqN-FIs",
        "outputId": "a6dbece1-651a-4c95-dc29-33ab73ce6e6e"
      },
      "source": [
        "y_hat_knn = knn.predict(X_test)\n",
        "print(\"The real values of the test dataset:   {}\".format(y_test[0:5]))\n",
        "print(\"The prediction with the KNN algorithm: {}\".format(y_hat_knn[0:5]))"
      ],
      "execution_count": 32,
      "outputs": [
        {
          "output_type": "stream",
          "name": "stdout",
          "text": [
            "The real values of the test dataset:   [4 1 1 2 4]\n",
            "The prediction with the KNN algorithm: [1 1 3 2 4]\n"
          ]
        }
      ]
    },
    {
      "cell_type": "markdown",
      "metadata": {
        "id": "wCSkqWd--yiq"
      },
      "source": [
        "**Accuracy evaluation**"
      ]
    },
    {
      "cell_type": "code",
      "metadata": {
        "id": "LgmmqSL3-brN"
      },
      "source": [
        "from sklearn import metrics"
      ],
      "execution_count": 33,
      "outputs": []
    },
    {
      "cell_type": "code",
      "metadata": {
        "colab": {
          "base_uri": "https://localhost:8080/"
        },
        "id": "zHINkhFY-7gk",
        "outputId": "fde8a261-0475-4487-c211-b8e5daa170b3"
      },
      "source": [
        "print(\"Train set accuracy: {}\".format(metrics.accuracy_score(y_train, knn.predict(X_train))))\n",
        "print(\"Test set accuracy:  {}\".format(metrics.accuracy_score(y_test, y_hat_knn)))"
      ],
      "execution_count": 36,
      "outputs": [
        {
          "output_type": "stream",
          "name": "stdout",
          "text": [
            "Train set accuracy: 0.5413333333333333\n",
            "Test set accuracy:  0.332\n"
          ]
        }
      ]
    },
    {
      "cell_type": "markdown",
      "metadata": {
        "id": "gY17tVKP_Xm-"
      },
      "source": [
        "let's try with K = 6"
      ]
    },
    {
      "cell_type": "code",
      "metadata": {
        "colab": {
          "base_uri": "https://localhost:8080/"
        },
        "id": "onbkQmZc-97u",
        "outputId": "2faa45d2-8ce7-46b0-ef26-25ab8ffab90b"
      },
      "source": [
        "k = 6\n",
        "knn_2 = KNeighborsClassifier(n_neighbors = k)\n",
        "knn_2.fit(X_train, y_train)\n",
        "\n",
        "y_hat_knn_2 = knn_2.predict(X_test)\n",
        "print(\"The real values of the test dataset:   {}\".format(y_test[0:5]))\n",
        "print(\"The prediction with the KNN algorithm: {}\".format(y_hat_knn_2[0:5]))\n",
        "\n",
        "print(\"Train set accuracy: {}\".format(metrics.accuracy_score(y_train, knn_2.predict(X_train))))\n",
        "print(\"Test set accuracy:  {}\".format(metrics.accuracy_score(y_test, y_hat_knn_2)))"
      ],
      "execution_count": 38,
      "outputs": [
        {
          "output_type": "stream",
          "name": "stdout",
          "text": [
            "The real values of the test dataset:   [4 1 1 2 4]\n",
            "The prediction with the KNN algorithm: [3 3 3 4 4]\n",
            "Train set accuracy: 0.5173333333333333\n",
            "Test set accuracy:  0.316\n"
          ]
        }
      ]
    },
    {
      "cell_type": "markdown",
      "metadata": {
        "id": "_Ng06iaXBEGl"
      },
      "source": [
        "K in KNN, is the number of nearest neighbors to examine. It is supposed to be specified by the user. So, how can we choose right value for K?\n",
        "The general solution is to reserve a part of your data for testing the accuracy of the model. Then choose k =1, use the training part for modeling, and calculate the accuracy of prediction using all samples in your test set. Repeat this process, increasing the k, and see which k is the best for your model.\n",
        "\n",
        "We can calculate the accuracy of KNN for different values of k.\n"
      ]
    },
    {
      "cell_type": "code",
      "metadata": {
        "colab": {
          "base_uri": "https://localhost:8080/"
        },
        "id": "G3yeLB9y_4U3",
        "outputId": "cc0c7387-3033-4b10-a4c5-9de4f656b7e8"
      },
      "source": [
        "Ks = 10\n",
        "mean_acc = np.zeros((Ks - 1))\n",
        "std_acc = np.zeros((Ks - 1))\n",
        "\n",
        "for n in range(1, Ks):\n",
        "  knn = KNeighborsClassifier(n_neighbors = n)\n",
        "  knn.fit(X_train, y_train)\n",
        "  y_hat = knn.predict(X_test)\n",
        "  mean_acc[n - 1] = metrics.accuracy_score(y_test, y_hat)\n",
        "  std_acc[n - 1] = np.std(y_hat == y_test) / np.sqrt(y_hat.shape[0])\n",
        "\n",
        "mean_acc\n"
      ],
      "execution_count": 39,
      "outputs": [
        {
          "output_type": "execute_result",
          "data": {
            "text/plain": [
              "array([0.296, 0.3  , 0.304, 0.332, 0.34 , 0.316, 0.356, 0.332, 0.356])"
            ]
          },
          "metadata": {},
          "execution_count": 39
        }
      ]
    },
    {
      "cell_type": "markdown",
      "metadata": {
        "id": "thssBeUKBl1A"
      },
      "source": [
        "plot the model with different k "
      ]
    },
    {
      "cell_type": "code",
      "metadata": {
        "colab": {
          "base_uri": "https://localhost:8080/",
          "height": 297
        },
        "id": "-idQoiVHBcnW",
        "outputId": "054a334e-24f6-47e8-c882-5664f91be5aa"
      },
      "source": [
        "plt.plot(range(1, Ks), mean_acc ,color = \"g\")\n",
        "plt.fill_between(range(1, Ks), mean_acc - 1 * std_acc, mean_acc + 1 * std_acc, alpha = 0.1)\n",
        "plt.fill_between(range(1, Ks), mean_acc - 3 * std_acc, mean_acc + 3 * std_acc, alpha = 0.1, color = \"g\")\n",
        "plt.legend(('Accuracy ', '+/- 1xstd','+/- 3xstd'))\n",
        "plt.xlabel(\"N neighbors\")\n",
        "plt.ylabel(\" Mean Accuracy\")\n",
        "plt.tight_layout()\n",
        "plt.show()"
      ],
      "execution_count": 45,
      "outputs": [
        {
          "output_type": "display_data",
          "data": {
            "image/png": "[encoded data removed]",
            "text/plain": [
              "<Figure size 432x288 with 1 Axes>"
            ]
          },
          "metadata": {
            "needs_background": "light"
          }
        }
      ]
    },
    {
      "cell_type": "code",
      "metadata": {
        "colab": {
          "base_uri": "https://localhost:8080/"
        },
        "id": "REy_zhk2B6ps",
        "outputId": "428898de-6e1a-43b2-b0df-fd618a1c82d4"
      },
      "source": [
        "print( \"The best accuracy was with\", mean_acc.max(), \"with k =\", mean_acc.argmax()+1) "
      ],
      "execution_count": 47,
      "outputs": [
        {
          "output_type": "stream",
          "name": "stdout",
          "text": [
            "The best accuracy was with 0.356 with k = 7\n"
          ]
        }
      ]
    }
  ]
}